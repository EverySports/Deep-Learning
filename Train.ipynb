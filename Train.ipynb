{
 "cells": [
  {
   "cell_type": "markdown",
   "metadata": {},
   "source": [
    "# Load Library & Preprocess Data"
   ]
  },
  {
   "cell_type": "code",
   "execution_count": 1,
   "metadata": {
    "pycharm": {
     "name": "#%%\n"
    }
   },
   "outputs": [],
   "source": [
    "import os\n",
    "os.environ[\"CUDA_VISIBLE_DEVICES\"]=\"0\"\n",
    "import random\n",
    "import numpy as np\n",
    "import tensorflow as tf\n",
    "import matplotlib.pyplot as plt\n",
    "%matplotlib inline\n",
    "\n",
    "from tensorflow.keras.callbacks import ReduceLROnPlateau, ModelCheckpoint\n",
    "from sklearn.model_selection import train_test_split\n",
    "\n",
    "import posenet\n",
    "\n",
    "from config import *\n",
    "from Datagenerator.Dataloader import load_data\n",
    "from Datagenerator.Datagenerator import *\n",
    "from Utils.draw_utils import *\n",
    "from Utils.evaluate import evaluate\n",
    "from Decode.decode_utils import *\n",
    "from Decode.Decoder import *\n",
    "from Losses.loss import *"
   ]
  },
  {
   "cell_type": "markdown",
   "metadata": {
    "pycharm": {
     "name": "#%% md\n"
    }
   },
   "source": [
    "### Set Seed"
   ]
  },
  {
   "cell_type": "code",
   "execution_count": 2,
   "metadata": {
    "pycharm": {
     "name": "#%%\n"
    }
   },
   "outputs": [],
   "source": [
    "SEED = 42\n",
    "\n",
    "def seed_everything(seed):\n",
    "    random.seed(seed)\n",
    "    os.environ['PYTHONHASHSEED'] = str(seed)\n",
    "    np.random.seed(seed)\n",
    "    tf.random.set_seed(seed)\n",
    "\n",
    "seed_everything(SEED)"
   ]
  },
  {
   "cell_type": "markdown",
   "metadata": {},
   "source": [
    "### Load Data "
   ]
  },
  {
   "cell_type": "code",
   "execution_count": 3,
   "metadata": {
    "pycharm": {
     "name": "#%%\n"
    },
    "scrolled": true
   },
   "outputs": [
    {
     "name": "stdout",
     "output_type": "stream",
     "text": [
      "16816\n"
     ]
    },
    {
     "data": {
      "text/html": [
       "<div>\n",
       "<style scoped>\n",
       "    .dataframe tbody tr th:only-of-type {\n",
       "        vertical-align: middle;\n",
       "    }\n",
       "\n",
       "    .dataframe tbody tr th {\n",
       "        vertical-align: top;\n",
       "    }\n",
       "\n",
       "    .dataframe thead th {\n",
       "        text-align: right;\n",
       "    }\n",
       "</style>\n",
       "<table border=\"1\" class=\"dataframe\">\n",
       "  <thead>\n",
       "    <tr style=\"text-align: right;\">\n",
       "      <th></th>\n",
       "      <th>NAME</th>\n",
       "      <th>pelvis_X</th>\n",
       "      <th>pelvis_Y</th>\n",
       "      <th>r hip_X</th>\n",
       "      <th>r hip_Y</th>\n",
       "      <th>r knee_X</th>\n",
       "      <th>r knee_Y</th>\n",
       "      <th>r ankle_X</th>\n",
       "      <th>r ankle_Y</th>\n",
       "      <th>l hip_X</th>\n",
       "      <th>l hip_Y</th>\n",
       "      <th>l knee_X</th>\n",
       "      <th>l knee_Y</th>\n",
       "      <th>l ankle_X</th>\n",
       "      <th>l ankle_Y</th>\n",
       "      <th>spine_X</th>\n",
       "      <th>spine_Y</th>\n",
       "      <th>thorax_X</th>\n",
       "      <th>thorax_Y</th>\n",
       "      <th>upper neck_X</th>\n",
       "      <th>upper neck_Y</th>\n",
       "      <th>head top_X</th>\n",
       "      <th>head top_Y</th>\n",
       "      <th>l shoulder_X</th>\n",
       "      <th>l shoulder_Y</th>\n",
       "      <th>l elbow_X</th>\n",
       "      <th>l elbow_Y</th>\n",
       "      <th>l wrist_X</th>\n",
       "      <th>l wrist_Y</th>\n",
       "      <th>r shoulder_X</th>\n",
       "      <th>r shoulder_Y</th>\n",
       "      <th>r elbow_X</th>\n",
       "      <th>r elbow_Y</th>\n",
       "      <th>r wrist_X</th>\n",
       "      <th>r wrist_Y</th>\n",
       "    </tr>\n",
       "  </thead>\n",
       "  <tbody>\n",
       "    <tr>\n",
       "      <th>0</th>\n",
       "      <td>../../Datasets/mpii_human_pose_v1/images/01560...</td>\n",
       "      <td>610</td>\n",
       "      <td>187</td>\n",
       "      <td>573</td>\n",
       "      <td>185</td>\n",
       "      <td>616</td>\n",
       "      <td>269</td>\n",
       "      <td>620</td>\n",
       "      <td>394</td>\n",
       "      <td>647</td>\n",
       "      <td>188</td>\n",
       "      <td>661</td>\n",
       "      <td>221</td>\n",
       "      <td>656</td>\n",
       "      <td>231</td>\n",
       "      <td>628</td>\n",
       "      <td>181</td>\n",
       "      <td>647</td>\n",
       "      <td>176</td>\n",
       "      <td>637.0201</td>\n",
       "      <td>189.8183</td>\n",
       "      <td>695.9799</td>\n",
       "      <td>108.1817</td>\n",
       "      <td>692</td>\n",
       "      <td>185</td>\n",
       "      <td>693</td>\n",
       "      <td>240</td>\n",
       "      <td>688</td>\n",
       "      <td>313</td>\n",
       "      <td>601</td>\n",
       "      <td>167</td>\n",
       "      <td>553</td>\n",
       "      <td>161</td>\n",
       "      <td>606</td>\n",
       "      <td>217</td>\n",
       "    </tr>\n",
       "    <tr>\n",
       "      <th>1</th>\n",
       "      <td>../../Datasets/mpii_human_pose_v1/images/01559...</td>\n",
       "      <td>763</td>\n",
       "      <td>568</td>\n",
       "      <td>806</td>\n",
       "      <td>543</td>\n",
       "      <td>-1</td>\n",
       "      <td>-1</td>\n",
       "      <td>-1</td>\n",
       "      <td>-1</td>\n",
       "      <td>720</td>\n",
       "      <td>593</td>\n",
       "      <td>-1</td>\n",
       "      <td>-1</td>\n",
       "      <td>-1</td>\n",
       "      <td>-1</td>\n",
       "      <td>723</td>\n",
       "      <td>429</td>\n",
       "      <td>683</td>\n",
       "      <td>290</td>\n",
       "      <td>682.0000</td>\n",
       "      <td>256.0000</td>\n",
       "      <td>676.0000</td>\n",
       "      <td>68.0000</td>\n",
       "      <td>719</td>\n",
       "      <td>299</td>\n",
       "      <td>711</td>\n",
       "      <td>516</td>\n",
       "      <td>545</td>\n",
       "      <td>466</td>\n",
       "      <td>647</td>\n",
       "      <td>281</td>\n",
       "      <td>555</td>\n",
       "      <td>410</td>\n",
       "      <td>563</td>\n",
       "      <td>296</td>\n",
       "    </tr>\n",
       "    <tr>\n",
       "      <th>2</th>\n",
       "      <td>../../Datasets/mpii_human_pose_v1/images/00580...</td>\n",
       "      <td>974</td>\n",
       "      <td>446</td>\n",
       "      <td>908</td>\n",
       "      <td>438</td>\n",
       "      <td>816</td>\n",
       "      <td>510</td>\n",
       "      <td>804</td>\n",
       "      <td>711</td>\n",
       "      <td>1040</td>\n",
       "      <td>454</td>\n",
       "      <td>906</td>\n",
       "      <td>528</td>\n",
       "      <td>883</td>\n",
       "      <td>707</td>\n",
       "      <td>979</td>\n",
       "      <td>349</td>\n",
       "      <td>985</td>\n",
       "      <td>253</td>\n",
       "      <td>982.7591</td>\n",
       "      <td>235.9694</td>\n",
       "      <td>962.2409</td>\n",
       "      <td>80.0306</td>\n",
       "      <td>1067</td>\n",
       "      <td>253</td>\n",
       "      <td>1167</td>\n",
       "      <td>353</td>\n",
       "      <td>1142</td>\n",
       "      <td>478</td>\n",
       "      <td>902</td>\n",
       "      <td>253</td>\n",
       "      <td>798</td>\n",
       "      <td>340</td>\n",
       "      <td>869</td>\n",
       "      <td>214</td>\n",
       "    </tr>\n",
       "    <tr>\n",
       "      <th>3</th>\n",
       "      <td>../../Datasets/mpii_human_pose_v1/images/08661...</td>\n",
       "      <td>248</td>\n",
       "      <td>341</td>\n",
       "      <td>201</td>\n",
       "      <td>340</td>\n",
       "      <td>305</td>\n",
       "      <td>375</td>\n",
       "      <td>301</td>\n",
       "      <td>461</td>\n",
       "      <td>294</td>\n",
       "      <td>342</td>\n",
       "      <td>335</td>\n",
       "      <td>370</td>\n",
       "      <td>331</td>\n",
       "      <td>455</td>\n",
       "      <td>263</td>\n",
       "      <td>302</td>\n",
       "      <td>279</td>\n",
       "      <td>263</td>\n",
       "      <td>277.0210</td>\n",
       "      <td>268.7786</td>\n",
       "      <td>305.9790</td>\n",
       "      <td>184.2214</td>\n",
       "      <td>314</td>\n",
       "      <td>264</td>\n",
       "      <td>327</td>\n",
       "      <td>320</td>\n",
       "      <td>362</td>\n",
       "      <td>346</td>\n",
       "      <td>244</td>\n",
       "      <td>261</td>\n",
       "      <td>260</td>\n",
       "      <td>335</td>\n",
       "      <td>328</td>\n",
       "      <td>354</td>\n",
       "    </tr>\n",
       "    <tr>\n",
       "      <th>4</th>\n",
       "      <td>../../Datasets/mpii_human_pose_v1/images/06011...</td>\n",
       "      <td>904</td>\n",
       "      <td>237</td>\n",
       "      <td>865</td>\n",
       "      <td>248</td>\n",
       "      <td>896</td>\n",
       "      <td>318</td>\n",
       "      <td>980</td>\n",
       "      <td>322</td>\n",
       "      <td>943</td>\n",
       "      <td>226</td>\n",
       "      <td>948</td>\n",
       "      <td>290</td>\n",
       "      <td>881</td>\n",
       "      <td>349</td>\n",
       "      <td>881</td>\n",
       "      <td>186</td>\n",
       "      <td>858</td>\n",
       "      <td>135</td>\n",
       "      <td>871.1877</td>\n",
       "      <td>180.4244</td>\n",
       "      <td>835.8123</td>\n",
       "      <td>58.5756</td>\n",
       "      <td>923</td>\n",
       "      <td>123</td>\n",
       "      <td>995</td>\n",
       "      <td>163</td>\n",
       "      <td>961</td>\n",
       "      <td>223</td>\n",
       "      <td>792</td>\n",
       "      <td>147</td>\n",
       "      <td>754</td>\n",
       "      <td>247</td>\n",
       "      <td>772</td>\n",
       "      <td>294</td>\n",
       "    </tr>\n",
       "  </tbody>\n",
       "</table>\n",
       "</div>"
      ],
      "text/plain": [
       "                                                NAME  pelvis_X  pelvis_Y  \\\n",
       "0  ../../Datasets/mpii_human_pose_v1/images/01560...       610       187   \n",
       "1  ../../Datasets/mpii_human_pose_v1/images/01559...       763       568   \n",
       "2  ../../Datasets/mpii_human_pose_v1/images/00580...       974       446   \n",
       "3  ../../Datasets/mpii_human_pose_v1/images/08661...       248       341   \n",
       "4  ../../Datasets/mpii_human_pose_v1/images/06011...       904       237   \n",
       "\n",
       "   r hip_X  r hip_Y  r knee_X  r knee_Y  r ankle_X  r ankle_Y  l hip_X  \\\n",
       "0      573      185       616       269        620        394      647   \n",
       "1      806      543        -1        -1         -1         -1      720   \n",
       "2      908      438       816       510        804        711     1040   \n",
       "3      201      340       305       375        301        461      294   \n",
       "4      865      248       896       318        980        322      943   \n",
       "\n",
       "   l hip_Y  l knee_X  l knee_Y  l ankle_X  l ankle_Y  spine_X  spine_Y  \\\n",
       "0      188       661       221        656        231      628      181   \n",
       "1      593        -1        -1         -1         -1      723      429   \n",
       "2      454       906       528        883        707      979      349   \n",
       "3      342       335       370        331        455      263      302   \n",
       "4      226       948       290        881        349      881      186   \n",
       "\n",
       "   thorax_X  thorax_Y  upper neck_X  upper neck_Y  head top_X  head top_Y  \\\n",
       "0       647       176      637.0201      189.8183    695.9799    108.1817   \n",
       "1       683       290      682.0000      256.0000    676.0000     68.0000   \n",
       "2       985       253      982.7591      235.9694    962.2409     80.0306   \n",
       "3       279       263      277.0210      268.7786    305.9790    184.2214   \n",
       "4       858       135      871.1877      180.4244    835.8123     58.5756   \n",
       "\n",
       "   l shoulder_X  l shoulder_Y  l elbow_X  l elbow_Y  l wrist_X  l wrist_Y  \\\n",
       "0           692           185        693        240        688        313   \n",
       "1           719           299        711        516        545        466   \n",
       "2          1067           253       1167        353       1142        478   \n",
       "3           314           264        327        320        362        346   \n",
       "4           923           123        995        163        961        223   \n",
       "\n",
       "   r shoulder_X  r shoulder_Y  r elbow_X  r elbow_Y  r wrist_X  r wrist_Y  \n",
       "0           601           167        553        161        606        217  \n",
       "1           647           281        555        410        563        296  \n",
       "2           902           253        798        340        869        214  \n",
       "3           244           261        260        335        328        354  \n",
       "4           792           147        754        247        772        294  "
      ]
     },
     "execution_count": 3,
     "metadata": {},
     "output_type": "execute_result"
    }
   ],
   "source": [
    "df = load_data()\n",
    "print(len(df))\n",
    "df.head()"
   ]
  },
  {
   "cell_type": "markdown",
   "metadata": {},
   "source": [
    "### Split train & test Data "
   ]
  },
  {
   "cell_type": "code",
   "execution_count": 4,
   "metadata": {},
   "outputs": [],
   "source": [
    "train_df, validation_df = train_test_split(df, test_size=0.3, random_state=SEED)"
   ]
  },
  {
   "cell_type": "markdown",
   "metadata": {
    "pycharm": {
     "name": "#%% md\n"
    }
   },
   "source": [
    "# Build Model"
   ]
  },
  {
   "cell_type": "code",
   "execution_count": 5,
   "metadata": {},
   "outputs": [],
   "source": [
    "with tf.device('/device:GPU:0'):\n",
    "    base_model = posenet.load_model(mode)\n",
    "    inputs = tf.keras.Input(shape=(256,256,3))\n",
    "    outputs = base_model(inputs)\n",
    "    model = tf.keras.Model(inputs=inputs, outputs=outputs)"
   ]
  },
  {
   "cell_type": "markdown",
   "metadata": {},
   "source": [
    "# Compile Model"
   ]
  },
  {
   "cell_type": "markdown",
   "metadata": {},
   "source": [
    "### Compile "
   ]
  },
  {
   "cell_type": "code",
   "execution_count": 6,
   "metadata": {},
   "outputs": [],
   "source": [
    "model.compile(\n",
    "     optimizer = optimizer,\n",
    "    # loss = [tf.keras.losses.MeanAbsoluteError(),\n",
    "    #        tf.keras.losses.MeanAbsoluteError()],\n",
    "    # loss = [AdaptiveSwingLoss, criterion],\n",
    "    # loss = [criterion2, criterion],\n",
    "    # loss = [criterion2, tf.keras.losses.MeanAbsoluteError()],\n",
    "    loss = criterion2,\n",
    "#     loss = tf.keras.losses.MeanSquaredError(),\n",
    "    loss_weights = loss_weight,\n",
    ")"
   ]
  },
  {
   "cell_type": "markdown",
   "metadata": {},
   "source": [
    "# Training "
   ]
  },
  {
   "cell_type": "code",
   "execution_count": 7,
   "metadata": {},
   "outputs": [],
   "source": [
    "train_gen = DataGenerator(\n",
    "    list_IDs = train_df.index,\n",
    "    df = df,\n",
    "    batch_size = batch_size,\n",
    "    shuffle = True,\n",
    "    image_paths = train_df['NAME'],\n",
    "    mode = 'fit',\n",
    ")\n",
    "\n",
    "val_gen = DataGenerator(\n",
    "    list_IDs = validation_df.index,\n",
    "    df = df,\n",
    "    batch_size = batch_size,\n",
    "    shuffle = False,\n",
    "    image_paths = validation_df['NAME'],\n",
    "    mode = 'fit',\n",
    ")\n",
    "\n",
    "ckpt = ModelCheckpoint(\n",
    "    # filepath = f'./checkpoints/{ckpt_path}.hdf5',\n",
    "    filepath = f'./checkpoints/{ckpt_path}.hdf5',\n",
    "    monitor = 'val_loss',\n",
    "    verbose = 1,\n",
    "    save_best_only = True,\n",
    "    save_weights_only = True,\n",
    "    mode = 'auto'\n",
    ")\n",
    "\n",
    "reducelr = ReduceLROnPlateau(\n",
    "    monitor = 'loss',\n",
    "    factor = .25,\n",
    "    patience = 2,\n",
    "    min_lr = 1e-5,\n",
    "    verbose = 1,\n",
    ")"
   ]
  },
  {
   "cell_type": "code",
   "execution_count": null,
   "metadata": {
    "scrolled": true
   },
   "outputs": [
    {
     "name": "stdout",
     "output_type": "stream",
     "text": [
      "Epoch 1/100\n",
      "1471/1471 [==============================] - ETA: 0s - loss: 9.4584\n",
      "Epoch 00001: val_loss improved from inf to 5.37766, saving model to ./checkpoints/20200901_EfficientPose-focal_alpha-90.hdf5\n",
      "1471/1471 [==============================] - 907s 617ms/step - loss: 9.4584 - val_loss: 5.3777\n",
      "Epoch 2/100\n",
      "1471/1471 [==============================] - ETA: 0s - loss: 4.7419\n",
      "Epoch 00002: val_loss improved from 5.37766 to 4.19683, saving model to ./checkpoints/20200901_EfficientPose-focal_alpha-90.hdf5\n",
      "1471/1471 [==============================] - 893s 607ms/step - loss: 4.7419 - val_loss: 4.1968\n",
      "Epoch 3/100\n",
      "1471/1471 [==============================] - ETA: 0s - loss: 3.9677\n",
      "Epoch 00003: val_loss improved from 4.19683 to 3.94605, saving model to ./checkpoints/20200901_EfficientPose-focal_alpha-90.hdf5\n",
      "1471/1471 [==============================] - 908s 617ms/step - loss: 3.9677 - val_loss: 3.9461\n",
      "Epoch 4/100\n",
      "1471/1471 [==============================] - ETA: 0s - loss: 3.7542\n",
      "Epoch 00004: val_loss improved from 3.94605 to 3.69606, saving model to ./checkpoints/20200901_EfficientPose-focal_alpha-90.hdf5\n",
      "1471/1471 [==============================] - 901s 612ms/step - loss: 3.7542 - val_loss: 3.6961\n",
      "Epoch 5/100\n",
      "1471/1471 [==============================] - ETA: 0s - loss: 3.4492\n",
      "Epoch 00005: val_loss improved from 3.69606 to 3.52915, saving model to ./checkpoints/20200901_EfficientPose-focal_alpha-90.hdf5\n",
      "1471/1471 [==============================] - 893s 607ms/step - loss: 3.4492 - val_loss: 3.5292\n",
      "Epoch 6/100\n",
      "1471/1471 [==============================] - ETA: 0s - loss: 3.2524\n",
      "Epoch 00006: val_loss did not improve from 3.52915\n",
      "1471/1471 [==============================] - 892s 607ms/step - loss: 3.2524 - val_loss: 3.5686\n",
      "Epoch 7/100\n",
      "1471/1471 [==============================] - ETA: 0s - loss: 3.1974\n",
      "Epoch 00007: val_loss improved from 3.52915 to 3.52818, saving model to ./checkpoints/20200901_EfficientPose-focal_alpha-90.hdf5\n",
      "1471/1471 [==============================] - 896s 609ms/step - loss: 3.1974 - val_loss: 3.5282\n",
      "Epoch 8/100\n",
      "1471/1471 [==============================] - ETA: 0s - loss: 3.0279\n",
      "Epoch 00008: val_loss did not improve from 3.52818\n",
      "1471/1471 [==============================] - 892s 606ms/step - loss: 3.0279 - val_loss: 3.6241\n",
      "Epoch 9/100\n",
      "1471/1471 [==============================] - ETA: 0s - loss: 2.9069\n",
      "Epoch 00009: val_loss did not improve from 3.52818\n",
      "1471/1471 [==============================] - 893s 607ms/step - loss: 2.9069 - val_loss: 3.8085\n",
      "Epoch 10/100\n",
      "1471/1471 [==============================] - ETA: 0s - loss: 2.8964\n",
      "Epoch 00010: val_loss did not improve from 3.52818\n",
      "1471/1471 [==============================] - 906s 616ms/step - loss: 2.8964 - val_loss: 3.5548\n",
      "Epoch 11/100\n",
      "1471/1471 [==============================] - ETA: 0s - loss: 2.7217\n",
      "Epoch 00011: val_loss did not improve from 3.52818\n",
      "1471/1471 [==============================] - 899s 611ms/step - loss: 2.7217 - val_loss: 3.8550\n",
      "Epoch 12/100\n",
      "1471/1471 [==============================] - ETA: 0s - loss: 2.6623\n",
      "Epoch 00012: val_loss did not improve from 3.52818\n",
      "1471/1471 [==============================] - 897s 609ms/step - loss: 2.6623 - val_loss: 3.7004\n",
      "Epoch 13/100\n",
      "1471/1471 [==============================] - ETA: 0s - loss: 2.6168\n",
      "Epoch 00013: val_loss did not improve from 3.52818\n",
      "1471/1471 [==============================] - 908s 617ms/step - loss: 2.6168 - val_loss: 3.9103\n",
      "Epoch 14/100\n",
      " 529/1471 [=========>....................] - ETA: 6:49 - loss: 2.4762"
     ]
    }
   ],
   "source": [
    "history = model.fit(\n",
    "    train_gen,\n",
    "    validation_data = val_gen,\n",
    "    epochs = EPOCHS,\n",
    "    callbacks = [ckpt],\n",
    "    use_multiprocessing = False,\n",
    ")"
   ]
  },
  {
   "cell_type": "code",
   "execution_count": null,
   "metadata": {},
   "outputs": [],
   "source": [
    "model.save_weights(f'./checkpoints/{ckpt_path}_final.hdf5')"
   ]
  },
  {
   "cell_type": "markdown",
   "metadata": {},
   "source": [
    "# History "
   ]
  },
  {
   "cell_type": "code",
   "execution_count": null,
   "metadata": {
    "scrolled": true
   },
   "outputs": [],
   "source": [
    "# draw_train_result(history)\n",
    "plt.plot(history.history['loss'], 'y', label='train loss')\n",
    "plt.plot(history.history['val_loss'], 'r', label='val loss')\n",
    "\n",
    "best = min(history.history['val_loss'])\n",
    "plt.title(f'Best Loss : {best}')\n",
    "\n",
    "plt.xlabel('epoch')\n",
    "plt.ylabel('loss')\n",
    "\n",
    "plt.legend(loc='upper right')"
   ]
  },
  {
   "cell_type": "markdown",
   "metadata": {},
   "source": [
    "# Inference "
   ]
  },
  {
   "cell_type": "code",
   "execution_count": null,
   "metadata": {},
   "outputs": [],
   "source": [
    "os.environ[\"CUDA_VISIBLE_DEVICES\"]=\"1\"\n",
    "with tf.device('/device:GPU:1'):\n",
    "    base_model = posenet.load_model(mode)\n",
    "    inputs = tf.keras.Input(shape=(256,256,3))\n",
    "    outputs = base_model(inputs)\n",
    "    inf_model = tf.keras.Model(inputs=inputs, outputs=outputs)\n",
    "    inf_model.load_weights(f'./checkpoints/{ckpt_path}.hdf5')"
   ]
  },
  {
   "cell_type": "code",
   "execution_count": null,
   "metadata": {},
   "outputs": [],
   "source": [
    "# decode_model = add_decoder(inf_model)"
   ]
  },
  {
   "cell_type": "code",
   "execution_count": null,
   "metadata": {},
   "outputs": [],
   "source": [
    "inf_gen = EvalDataGenerator(\n",
    "    list_IDs = validation_df.index,\n",
    "    df = df,\n",
    "    batch_size = 1,\n",
    "    shuffle = False,\n",
    "    image_paths = validation_df['NAME'],\n",
    "    mode = 'fit',\n",
    ")"
   ]
  },
  {
   "cell_type": "code",
   "execution_count": null,
   "metadata": {},
   "outputs": [],
   "source": [
    "img, regr = inf_gen.__getitem__(11)\n",
    "result = inf_model(img)\n",
    "idx = 0"
   ]
  },
  {
   "cell_type": "code",
   "execution_count": null,
   "metadata": {},
   "outputs": [],
   "source": [
    "plt.imshow(img[idx]/255.)\n",
    "plt.show()"
   ]
  },
  {
   "cell_type": "code",
   "execution_count": null,
   "metadata": {
    "scrolled": true
   },
   "outputs": [],
   "source": [
    "draw_heatmap(0, *regr)"
   ]
  },
  {
   "cell_type": "code",
   "execution_count": null,
   "metadata": {
    "scrolled": true
   },
   "outputs": [],
   "source": [
    "draw_heatmap(0, heatmap_result=result)"
   ]
  },
  {
   "cell_type": "markdown",
   "metadata": {},
   "source": [
    "# Decode "
   ]
  },
  {
   "cell_type": "code",
   "execution_count": null,
   "metadata": {},
   "outputs": [],
   "source": [
    "# pose_scores, keypoint_scores, keypoint_coords = decode_single_poses(result[0].numpy().squeeze(axis=0),\n",
    "#                     result[1].numpy().squeeze(axis=0))\n",
    "\n",
    "# print(f'pose score : {pose_scores}')\n",
    "# print(f'keypoint scores :')\n",
    "# print(f'{keypoint_scores}')\n",
    "# print(f'keypoint coords :')\n",
    "# print(f'{keypoint_coords}')"
   ]
  },
  {
   "cell_type": "code",
   "execution_count": null,
   "metadata": {},
   "outputs": [],
   "source": [
    "pose_scores_nooff, keypoint_scores_nooff, keypoint_coords_nooff = decode_single_poses_nooff(result.numpy().squeeze(axis=0))\n",
    "\n",
    "print(f'pose score nooff: {pose_scores_nooff}')\n",
    "print(f'keypoint scores nooff:')\n",
    "print(f'{keypoint_scores_nooff}')\n",
    "print(f'keypoint coords nooff:')\n",
    "print(f'{keypoint_coords_nooff}')"
   ]
  },
  {
   "cell_type": "code",
   "execution_count": null,
   "metadata": {},
   "outputs": [],
   "source": [
    "draw_result(img, idx, keypoint_coords_nooff, keypoint_coords_nooff, result, inf_gen)"
   ]
  },
  {
   "cell_type": "markdown",
   "metadata": {},
   "source": [
    "# Evaluate"
   ]
  },
  {
   "cell_type": "code",
   "execution_count": null,
   "metadata": {},
   "outputs": [],
   "source": [
    "evaluate(inf_model, inf_gen)"
   ]
  }
 ],
 "metadata": {
  "kernelspec": {
   "display_name": "posenet",
   "language": "python",
   "name": "posenet"
  },
  "language_info": {
   "codemirror_mode": {
    "name": "ipython",
    "version": 3
   },
   "file_extension": ".py",
   "mimetype": "text/x-python",
   "name": "python",
   "nbconvert_exporter": "python",
   "pygments_lexer": "ipython3",
   "version": "3.6.10"
  }
 },
 "nbformat": 4,
 "nbformat_minor": 1
}
