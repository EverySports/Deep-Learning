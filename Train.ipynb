{
 "cells": [
  {
   "cell_type": "markdown",
   "metadata": {},
   "source": [
    "# Load Library & Preprocess Data"
   ]
  },
  {
   "cell_type": "code",
   "execution_count": 1,
   "metadata": {
    "pycharm": {
     "name": "#%%\n"
    }
   },
   "outputs": [],
   "source": [
    "import os\n",
    "os.environ[\"CUDA_VISIBLE_DEVICES\"]=\"0\"\n",
    "import random\n",
    "import numpy as np\n",
    "import tensorflow as tf\n",
    "import matplotlib.pyplot as plt\n",
    "%matplotlib inline\n",
    "\n",
    "from tensorflow.keras.callbacks import ReduceLROnPlateau, ModelCheckpoint\n",
    "from sklearn.model_selection import train_test_split\n",
    "\n",
    "import posenet\n",
    "\n",
    "from config import *\n",
    "from Datagenerator.Dataloader import load_data\n",
    "from Datagenerator.Datagenerator import *\n",
    "from Utils.draw_utils import *\n",
    "from Utils.evaluate import evaluate\n",
    "from Decode.decode_utils import *\n",
    "from Decode.Decoder import *\n",
    "from Losses.loss import *"
   ]
  },
  {
   "cell_type": "markdown",
   "metadata": {
    "pycharm": {
     "name": "#%% md\n"
    }
   },
   "source": [
    "### Set Seed"
   ]
  },
  {
   "cell_type": "code",
   "execution_count": 2,
   "metadata": {
    "pycharm": {
     "name": "#%%\n"
    }
   },
   "outputs": [],
   "source": [
    "SEED = 42\n",
    "\n",
    "def seed_everything(seed):\n",
    "    random.seed(seed)\n",
    "    os.environ['PYTHONHASHSEED'] = str(seed)\n",
    "    np.random.seed(seed)\n",
    "    tf.random.set_seed(seed)\n",
    "\n",
    "seed_everything(SEED)"
   ]
  },
  {
   "cell_type": "markdown",
   "metadata": {},
   "source": [
    "### Load Data "
   ]
  },
  {
   "cell_type": "code",
   "execution_count": 3,
   "metadata": {
    "pycharm": {
     "name": "#%%\n"
    },
    "scrolled": true
   },
   "outputs": [
    {
     "name": "stdout",
     "output_type": "stream",
     "text": [
      "16816\n"
     ]
    },
    {
     "data": {
      "text/html": [
       "<div>\n",
       "<style scoped>\n",
       "    .dataframe tbody tr th:only-of-type {\n",
       "        vertical-align: middle;\n",
       "    }\n",
       "\n",
       "    .dataframe tbody tr th {\n",
       "        vertical-align: top;\n",
       "    }\n",
       "\n",
       "    .dataframe thead th {\n",
       "        text-align: right;\n",
       "    }\n",
       "</style>\n",
       "<table border=\"1\" class=\"dataframe\">\n",
       "  <thead>\n",
       "    <tr style=\"text-align: right;\">\n",
       "      <th></th>\n",
       "      <th>NAME</th>\n",
       "      <th>pelvis_X</th>\n",
       "      <th>pelvis_Y</th>\n",
       "      <th>r hip_X</th>\n",
       "      <th>r hip_Y</th>\n",
       "      <th>r knee_X</th>\n",
       "      <th>r knee_Y</th>\n",
       "      <th>r ankle_X</th>\n",
       "      <th>r ankle_Y</th>\n",
       "      <th>l hip_X</th>\n",
       "      <th>l hip_Y</th>\n",
       "      <th>l knee_X</th>\n",
       "      <th>l knee_Y</th>\n",
       "      <th>l ankle_X</th>\n",
       "      <th>l ankle_Y</th>\n",
       "      <th>spine_X</th>\n",
       "      <th>spine_Y</th>\n",
       "      <th>thorax_X</th>\n",
       "      <th>thorax_Y</th>\n",
       "      <th>upper neck_X</th>\n",
       "      <th>upper neck_Y</th>\n",
       "      <th>head top_X</th>\n",
       "      <th>head top_Y</th>\n",
       "      <th>l shoulder_X</th>\n",
       "      <th>l shoulder_Y</th>\n",
       "      <th>l elbow_X</th>\n",
       "      <th>l elbow_Y</th>\n",
       "      <th>l wrist_X</th>\n",
       "      <th>l wrist_Y</th>\n",
       "      <th>r shoulder_X</th>\n",
       "      <th>r shoulder_Y</th>\n",
       "      <th>r elbow_X</th>\n",
       "      <th>r elbow_Y</th>\n",
       "      <th>r wrist_X</th>\n",
       "      <th>r wrist_Y</th>\n",
       "    </tr>\n",
       "  </thead>\n",
       "  <tbody>\n",
       "    <tr>\n",
       "      <th>0</th>\n",
       "      <td>../../Datasets/MPII/images/015601864.jpg</td>\n",
       "      <td>610</td>\n",
       "      <td>187</td>\n",
       "      <td>573</td>\n",
       "      <td>185</td>\n",
       "      <td>616</td>\n",
       "      <td>269</td>\n",
       "      <td>620</td>\n",
       "      <td>394</td>\n",
       "      <td>647</td>\n",
       "      <td>188</td>\n",
       "      <td>661</td>\n",
       "      <td>221</td>\n",
       "      <td>656</td>\n",
       "      <td>231</td>\n",
       "      <td>628</td>\n",
       "      <td>181</td>\n",
       "      <td>647</td>\n",
       "      <td>176</td>\n",
       "      <td>637.0201</td>\n",
       "      <td>189.8183</td>\n",
       "      <td>695.9799</td>\n",
       "      <td>108.1817</td>\n",
       "      <td>692</td>\n",
       "      <td>185</td>\n",
       "      <td>693</td>\n",
       "      <td>240</td>\n",
       "      <td>688</td>\n",
       "      <td>313</td>\n",
       "      <td>601</td>\n",
       "      <td>167</td>\n",
       "      <td>553</td>\n",
       "      <td>161</td>\n",
       "      <td>606</td>\n",
       "      <td>217</td>\n",
       "    </tr>\n",
       "    <tr>\n",
       "      <th>1</th>\n",
       "      <td>../../Datasets/MPII/images/015599452.jpg</td>\n",
       "      <td>763</td>\n",
       "      <td>568</td>\n",
       "      <td>806</td>\n",
       "      <td>543</td>\n",
       "      <td>-1</td>\n",
       "      <td>-1</td>\n",
       "      <td>-1</td>\n",
       "      <td>-1</td>\n",
       "      <td>720</td>\n",
       "      <td>593</td>\n",
       "      <td>-1</td>\n",
       "      <td>-1</td>\n",
       "      <td>-1</td>\n",
       "      <td>-1</td>\n",
       "      <td>723</td>\n",
       "      <td>429</td>\n",
       "      <td>683</td>\n",
       "      <td>290</td>\n",
       "      <td>682.0000</td>\n",
       "      <td>256.0000</td>\n",
       "      <td>676.0000</td>\n",
       "      <td>68.0000</td>\n",
       "      <td>719</td>\n",
       "      <td>299</td>\n",
       "      <td>711</td>\n",
       "      <td>516</td>\n",
       "      <td>545</td>\n",
       "      <td>466</td>\n",
       "      <td>647</td>\n",
       "      <td>281</td>\n",
       "      <td>555</td>\n",
       "      <td>410</td>\n",
       "      <td>563</td>\n",
       "      <td>296</td>\n",
       "    </tr>\n",
       "    <tr>\n",
       "      <th>2</th>\n",
       "      <td>../../Datasets/MPII/images/005808361.jpg</td>\n",
       "      <td>974</td>\n",
       "      <td>446</td>\n",
       "      <td>908</td>\n",
       "      <td>438</td>\n",
       "      <td>816</td>\n",
       "      <td>510</td>\n",
       "      <td>804</td>\n",
       "      <td>711</td>\n",
       "      <td>1040</td>\n",
       "      <td>454</td>\n",
       "      <td>906</td>\n",
       "      <td>528</td>\n",
       "      <td>883</td>\n",
       "      <td>707</td>\n",
       "      <td>979</td>\n",
       "      <td>349</td>\n",
       "      <td>985</td>\n",
       "      <td>253</td>\n",
       "      <td>982.7591</td>\n",
       "      <td>235.9694</td>\n",
       "      <td>962.2409</td>\n",
       "      <td>80.0306</td>\n",
       "      <td>1067</td>\n",
       "      <td>253</td>\n",
       "      <td>1167</td>\n",
       "      <td>353</td>\n",
       "      <td>1142</td>\n",
       "      <td>478</td>\n",
       "      <td>902</td>\n",
       "      <td>253</td>\n",
       "      <td>798</td>\n",
       "      <td>340</td>\n",
       "      <td>869</td>\n",
       "      <td>214</td>\n",
       "    </tr>\n",
       "    <tr>\n",
       "      <th>3</th>\n",
       "      <td>../../Datasets/MPII/images/086617615.jpg</td>\n",
       "      <td>248</td>\n",
       "      <td>341</td>\n",
       "      <td>201</td>\n",
       "      <td>340</td>\n",
       "      <td>305</td>\n",
       "      <td>375</td>\n",
       "      <td>301</td>\n",
       "      <td>461</td>\n",
       "      <td>294</td>\n",
       "      <td>342</td>\n",
       "      <td>335</td>\n",
       "      <td>370</td>\n",
       "      <td>331</td>\n",
       "      <td>455</td>\n",
       "      <td>263</td>\n",
       "      <td>302</td>\n",
       "      <td>279</td>\n",
       "      <td>263</td>\n",
       "      <td>277.0210</td>\n",
       "      <td>268.7786</td>\n",
       "      <td>305.9790</td>\n",
       "      <td>184.2214</td>\n",
       "      <td>314</td>\n",
       "      <td>264</td>\n",
       "      <td>327</td>\n",
       "      <td>320</td>\n",
       "      <td>362</td>\n",
       "      <td>346</td>\n",
       "      <td>244</td>\n",
       "      <td>261</td>\n",
       "      <td>260</td>\n",
       "      <td>335</td>\n",
       "      <td>328</td>\n",
       "      <td>354</td>\n",
       "    </tr>\n",
       "    <tr>\n",
       "      <th>4</th>\n",
       "      <td>../../Datasets/MPII/images/060111501.jpg</td>\n",
       "      <td>904</td>\n",
       "      <td>237</td>\n",
       "      <td>865</td>\n",
       "      <td>248</td>\n",
       "      <td>896</td>\n",
       "      <td>318</td>\n",
       "      <td>980</td>\n",
       "      <td>322</td>\n",
       "      <td>943</td>\n",
       "      <td>226</td>\n",
       "      <td>948</td>\n",
       "      <td>290</td>\n",
       "      <td>881</td>\n",
       "      <td>349</td>\n",
       "      <td>881</td>\n",
       "      <td>186</td>\n",
       "      <td>858</td>\n",
       "      <td>135</td>\n",
       "      <td>871.1877</td>\n",
       "      <td>180.4244</td>\n",
       "      <td>835.8123</td>\n",
       "      <td>58.5756</td>\n",
       "      <td>923</td>\n",
       "      <td>123</td>\n",
       "      <td>995</td>\n",
       "      <td>163</td>\n",
       "      <td>961</td>\n",
       "      <td>223</td>\n",
       "      <td>792</td>\n",
       "      <td>147</td>\n",
       "      <td>754</td>\n",
       "      <td>247</td>\n",
       "      <td>772</td>\n",
       "      <td>294</td>\n",
       "    </tr>\n",
       "  </tbody>\n",
       "</table>\n",
       "</div>"
      ],
      "text/plain": [
       "                                       NAME  pelvis_X  pelvis_Y  r hip_X  \\\n",
       "0  ../../Datasets/MPII/images/015601864.jpg       610       187      573   \n",
       "1  ../../Datasets/MPII/images/015599452.jpg       763       568      806   \n",
       "2  ../../Datasets/MPII/images/005808361.jpg       974       446      908   \n",
       "3  ../../Datasets/MPII/images/086617615.jpg       248       341      201   \n",
       "4  ../../Datasets/MPII/images/060111501.jpg       904       237      865   \n",
       "\n",
       "   r hip_Y  r knee_X  r knee_Y  r ankle_X  r ankle_Y  l hip_X  l hip_Y  \\\n",
       "0      185       616       269        620        394      647      188   \n",
       "1      543        -1        -1         -1         -1      720      593   \n",
       "2      438       816       510        804        711     1040      454   \n",
       "3      340       305       375        301        461      294      342   \n",
       "4      248       896       318        980        322      943      226   \n",
       "\n",
       "   l knee_X  l knee_Y  l ankle_X  l ankle_Y  spine_X  spine_Y  thorax_X  \\\n",
       "0       661       221        656        231      628      181       647   \n",
       "1        -1        -1         -1         -1      723      429       683   \n",
       "2       906       528        883        707      979      349       985   \n",
       "3       335       370        331        455      263      302       279   \n",
       "4       948       290        881        349      881      186       858   \n",
       "\n",
       "   thorax_Y  upper neck_X  upper neck_Y  head top_X  head top_Y  l shoulder_X  \\\n",
       "0       176      637.0201      189.8183    695.9799    108.1817           692   \n",
       "1       290      682.0000      256.0000    676.0000     68.0000           719   \n",
       "2       253      982.7591      235.9694    962.2409     80.0306          1067   \n",
       "3       263      277.0210      268.7786    305.9790    184.2214           314   \n",
       "4       135      871.1877      180.4244    835.8123     58.5756           923   \n",
       "\n",
       "   l shoulder_Y  l elbow_X  l elbow_Y  l wrist_X  l wrist_Y  r shoulder_X  \\\n",
       "0           185        693        240        688        313           601   \n",
       "1           299        711        516        545        466           647   \n",
       "2           253       1167        353       1142        478           902   \n",
       "3           264        327        320        362        346           244   \n",
       "4           123        995        163        961        223           792   \n",
       "\n",
       "   r shoulder_Y  r elbow_X  r elbow_Y  r wrist_X  r wrist_Y  \n",
       "0           167        553        161        606        217  \n",
       "1           281        555        410        563        296  \n",
       "2           253        798        340        869        214  \n",
       "3           261        260        335        328        354  \n",
       "4           147        754        247        772        294  "
      ]
     },
     "execution_count": 3,
     "metadata": {},
     "output_type": "execute_result"
    }
   ],
   "source": [
    "df = load_data()\n",
    "print(len(df))\n",
    "df.head()"
   ]
  },
  {
   "cell_type": "markdown",
   "metadata": {},
   "source": [
    "### Split train & test Data "
   ]
  },
  {
   "cell_type": "code",
   "execution_count": 4,
   "metadata": {},
   "outputs": [],
   "source": [
    "train_df, validation_df = train_test_split(df, test_size=0.15, random_state=SEED)"
   ]
  },
  {
   "cell_type": "markdown",
   "metadata": {
    "pycharm": {
     "name": "#%% md\n"
    }
   },
   "source": [
    "# Build Model"
   ]
  },
  {
   "cell_type": "code",
   "execution_count": 5,
   "metadata": {},
   "outputs": [
    {
     "name": "stdout",
     "output_type": "stream",
     "text": [
      "WARNING:tensorflow:`input_shape` is undefined or non-square, or `rows` is not in [128, 160, 192, 224]. Weights for input shape (224, 224) will be loaded as the default.\n"
     ]
    }
   ],
   "source": [
    "with tf.device('/device:GPU:0'):\n",
    "    base_model = posenet.load_model(mode)\n",
    "    inputs = tf.keras.Input(shape=(256,256,3))\n",
    "    outputs = base_model(inputs)\n",
    "    model = tf.keras.Model(inputs=inputs, outputs=outputs)"
   ]
  },
  {
   "cell_type": "markdown",
   "metadata": {},
   "source": [
    "# Compile Model"
   ]
  },
  {
   "cell_type": "markdown",
   "metadata": {},
   "source": [
    "### Compile "
   ]
  },
  {
   "cell_type": "code",
   "execution_count": 6,
   "metadata": {},
   "outputs": [],
   "source": [
    "model.compile(\n",
    "     optimizer = optimizer,\n",
    "    # loss = [tf.keras.losses.MeanAbsoluteError(),\n",
    "    #        tf.keras.losses.MeanAbsoluteError()],\n",
    "    # loss = [AdaptiveSwingLoss, criterion],\n",
    "    # loss = [criterion2, criterion],\n",
    "    loss = [criterion2, tf.keras.losses.MeanAbsoluteError()],\n",
    "    # loss = criterion2,\n",
    "    # loss = EMD_loss,\n",
    "    # loss = criterion2,\n",
    "    # loss = tf.keras.losses.MeanSquaredError(),\n",
    "    loss_weights = loss_weight,\n",
    ")"
   ]
  },
  {
   "cell_type": "markdown",
   "metadata": {},
   "source": [
    "# Training "
   ]
  },
  {
   "cell_type": "code",
   "execution_count": 7,
   "metadata": {},
   "outputs": [],
   "source": [
    "train_gen = DataGenerator(\n",
    "    list_IDs = train_df.index,\n",
    "    df = df,\n",
    "    batch_size = batch_size,\n",
    "    shuffle = True,\n",
    "    image_paths = train_df['NAME'],\n",
    "    mode = 'fit',\n",
    ")\n",
    "\n",
    "val_gen = DataGenerator(\n",
    "    list_IDs = validation_df.index,\n",
    "    df = df,\n",
    "    batch_size = batch_size,\n",
    "    shuffle = False,\n",
    "    image_paths = validation_df['NAME'],\n",
    "    mode = 'fit',\n",
    ")\n",
    "\n",
    "ckpt = ModelCheckpoint(\n",
    "    filepath = f'./checkpoints/{ckpt_path}.hdf5',\n",
    "    # filepath = f'./checkpoints/{ckpt_path}.h5',\n",
    "    monitor = 'val_loss',\n",
    "    verbose = 1,\n",
    "    save_best_only = True,\n",
    "    save_weights_only = True,\n",
    "    mode = 'auto'\n",
    ")\n",
    "\n",
    "reducelr = ReduceLROnPlateau(\n",
    "    monitor = 'loss',\n",
    "    factor = .25,\n",
    "    patience = 2,\n",
    "    min_lr = 1e-5,\n",
    "    verbose = 1,\n",
    ")"
   ]
  },
  {
   "cell_type": "code",
   "execution_count": null,
   "metadata": {
    "scrolled": true
   },
   "outputs": [
    {
     "name": "stdout",
     "output_type": "stream",
     "text": [
      "Epoch 1/100\n",
      "   2/1786 [..............................] - ETA: 1:47 - loss: 103.0657 - mobile_net_v1_loss: 0.1017 - mobile_net_v1_1_loss: 1.3825WARNING:tensorflow:Callbacks method `on_train_batch_end` is slow compared to the batch time (batch time: 0.0448s vs `on_train_batch_end` time: 0.0744s). Check your callbacks.\n",
      "1786/1786 [==============================] - ETA: 0s - loss: 4.6334 - mobile_net_v1_loss: 0.0033 - mobile_net_v1_1_loss: 1.3513\n",
      "Epoch 00001: val_loss improved from inf to 4.39767, saving model to ./checkpoints/20201005_EverySports-K_verification_alpha-25.hdf5\n",
      "1786/1786 [==============================] - 358s 200ms/step - loss: 4.6334 - mobile_net_v1_loss: 0.0033 - mobile_net_v1_1_loss: 1.3513 - val_loss: 4.3977 - val_mobile_net_v1_loss: 0.0031 - val_mobile_net_v1_1_loss: 1.3316\n",
      "Epoch 2/100\n",
      "1786/1786 [==============================] - ETA: 0s - loss: 4.3550 - mobile_net_v1_loss: 0.0030 - mobile_net_v1_1_loss: 1.3223\n",
      "Epoch 00002: val_loss improved from 4.39767 to 4.30983, saving model to ./checkpoints/20201005_EverySports-K_verification_alpha-25.hdf5\n",
      "1786/1786 [==============================] - 354s 198ms/step - loss: 4.3550 - mobile_net_v1_loss: 0.0030 - mobile_net_v1_1_loss: 1.3223 - val_loss: 4.3098 - val_mobile_net_v1_loss: 0.0030 - val_mobile_net_v1_1_loss: 1.3109\n",
      "Epoch 3/100\n",
      "1786/1786 [==============================] - ETA: 0s - loss: 4.2781 - mobile_net_v1_loss: 0.0030 - mobile_net_v1_1_loss: 1.3052\n",
      "Epoch 00003: val_loss improved from 4.30983 to 4.24333, saving model to ./checkpoints/20201005_EverySports-K_verification_alpha-25.hdf5\n",
      "1786/1786 [==============================] - 356s 199ms/step - loss: 4.2781 - mobile_net_v1_loss: 0.0030 - mobile_net_v1_1_loss: 1.3052 - val_loss: 4.2433 - val_mobile_net_v1_loss: 0.0029 - val_mobile_net_v1_1_loss: 1.2969\n",
      "Epoch 4/100\n",
      "1786/1786 [==============================] - ETA: 0s - loss: 4.2173 - mobile_net_v1_loss: 0.0029 - mobile_net_v1_1_loss: 1.2931\n",
      "Epoch 00004: val_loss improved from 4.24333 to 4.18984, saving model to ./checkpoints/20201005_EverySports-K_verification_alpha-25.hdf5\n",
      "1786/1786 [==============================] - 361s 202ms/step - loss: 4.2173 - mobile_net_v1_loss: 0.0029 - mobile_net_v1_1_loss: 1.2931 - val_loss: 4.1898 - val_mobile_net_v1_loss: 0.0029 - val_mobile_net_v1_1_loss: 1.2860\n",
      "Epoch 5/100\n",
      "1786/1786 [==============================] - ETA: 0s - loss: 4.1684 - mobile_net_v1_loss: 0.0029 - mobile_net_v1_1_loss: 1.2837\n",
      "Epoch 00005: val_loss improved from 4.18984 to 4.14719, saving model to ./checkpoints/20201005_EverySports-K_verification_alpha-25.hdf5\n",
      "1786/1786 [==============================] - 355s 199ms/step - loss: 4.1684 - mobile_net_v1_loss: 0.0029 - mobile_net_v1_1_loss: 1.2837 - val_loss: 4.1472 - val_mobile_net_v1_loss: 0.0029 - val_mobile_net_v1_1_loss: 1.2777\n",
      "Epoch 6/100\n",
      "1786/1786 [==============================] - ETA: 0s - loss: 4.1294 - mobile_net_v1_loss: 0.0029 - mobile_net_v1_1_loss: 1.2760\n",
      "Epoch 00006: val_loss improved from 4.14719 to 4.11160, saving model to ./checkpoints/20201005_EverySports-K_verification_alpha-25.hdf5\n",
      "1786/1786 [==============================] - 357s 200ms/step - loss: 4.1294 - mobile_net_v1_loss: 0.0029 - mobile_net_v1_1_loss: 1.2760 - val_loss: 4.1116 - val_mobile_net_v1_loss: 0.0028 - val_mobile_net_v1_1_loss: 1.2706\n",
      "Epoch 7/100\n",
      "1786/1786 [==============================] - ETA: 0s - loss: 4.0980 - mobile_net_v1_loss: 0.0028 - mobile_net_v1_1_loss: 1.2694\n",
      "Epoch 00007: val_loss improved from 4.11160 to 4.08528, saving model to ./checkpoints/20201005_EverySports-K_verification_alpha-25.hdf5\n",
      "1786/1786 [==============================] - 361s 202ms/step - loss: 4.0980 - mobile_net_v1_loss: 0.0028 - mobile_net_v1_1_loss: 1.2694 - val_loss: 4.0853 - val_mobile_net_v1_loss: 0.0028 - val_mobile_net_v1_1_loss: 1.2645\n",
      "Epoch 8/100\n",
      "1786/1786 [==============================] - ETA: 0s - loss: 4.0723 - mobile_net_v1_loss: 0.0028 - mobile_net_v1_1_loss: 1.2637\n",
      "Epoch 00008: val_loss improved from 4.08528 to 4.06171, saving model to ./checkpoints/20201005_EverySports-K_verification_alpha-25.hdf5\n",
      "1786/1786 [==============================] - 359s 201ms/step - loss: 4.0723 - mobile_net_v1_loss: 0.0028 - mobile_net_v1_1_loss: 1.2637 - val_loss: 4.0617 - val_mobile_net_v1_loss: 0.0028 - val_mobile_net_v1_1_loss: 1.2591\n",
      "Epoch 9/100\n",
      "1786/1786 [==============================] - ETA: 0s - loss: 4.0507 - mobile_net_v1_loss: 0.0028 - mobile_net_v1_1_loss: 1.2586\n",
      "Epoch 00009: val_loss improved from 4.06171 to 4.04213, saving model to ./checkpoints/20201005_EverySports-K_verification_alpha-25.hdf5\n",
      "1786/1786 [==============================] - 355s 199ms/step - loss: 4.0507 - mobile_net_v1_loss: 0.0028 - mobile_net_v1_1_loss: 1.2586 - val_loss: 4.0421 - val_mobile_net_v1_loss: 0.0028 - val_mobile_net_v1_1_loss: 1.2541\n",
      "Epoch 10/100\n",
      "1786/1786 [==============================] - ETA: 0s - loss: 4.0323 - mobile_net_v1_loss: 0.0028 - mobile_net_v1_1_loss: 1.2540\n",
      "Epoch 00010: val_loss improved from 4.04213 to 4.02413, saving model to ./checkpoints/20201005_EverySports-K_verification_alpha-25.hdf5\n",
      "1786/1786 [==============================] - 354s 198ms/step - loss: 4.0323 - mobile_net_v1_loss: 0.0028 - mobile_net_v1_1_loss: 1.2540 - val_loss: 4.0241 - val_mobile_net_v1_loss: 0.0028 - val_mobile_net_v1_1_loss: 1.2495\n",
      "Epoch 11/100\n",
      "1786/1786 [==============================] - ETA: 0s - loss: 4.0162 - mobile_net_v1_loss: 0.0028 - mobile_net_v1_1_loss: 1.2500\n",
      "Epoch 00011: val_loss improved from 4.02413 to 4.00999, saving model to ./checkpoints/20201005_EverySports-K_verification_alpha-25.hdf5\n",
      "1786/1786 [==============================] - 357s 200ms/step - loss: 4.0162 - mobile_net_v1_loss: 0.0028 - mobile_net_v1_1_loss: 1.2500 - val_loss: 4.0100 - val_mobile_net_v1_loss: 0.0028 - val_mobile_net_v1_1_loss: 1.2461\n",
      "Epoch 12/100\n",
      "1786/1786 [==============================] - ETA: 0s - loss: 4.0018 - mobile_net_v1_loss: 0.0028 - mobile_net_v1_1_loss: 1.2463\n",
      "Epoch 00012: val_loss improved from 4.00999 to 3.99685, saving model to ./checkpoints/20201005_EverySports-K_verification_alpha-25.hdf5\n",
      "1786/1786 [==============================] - 358s 200ms/step - loss: 4.0018 - mobile_net_v1_loss: 0.0028 - mobile_net_v1_1_loss: 1.2463 - val_loss: 3.9968 - val_mobile_net_v1_loss: 0.0028 - val_mobile_net_v1_1_loss: 1.2423\n",
      "Epoch 13/100\n",
      "1786/1786 [==============================] - ETA: 0s - loss: 3.9889 - mobile_net_v1_loss: 0.0027 - mobile_net_v1_1_loss: 1.2430\n",
      "Epoch 00013: val_loss improved from 3.99685 to 3.98632, saving model to ./checkpoints/20201005_EverySports-K_verification_alpha-25.hdf5\n",
      "1786/1786 [==============================] - 356s 199ms/step - loss: 3.9889 - mobile_net_v1_loss: 0.0027 - mobile_net_v1_1_loss: 1.2430 - val_loss: 3.9863 - val_mobile_net_v1_loss: 0.0027 - val_mobile_net_v1_1_loss: 1.2391\n",
      "Epoch 14/100\n",
      "1786/1786 [==============================] - ETA: 0s - loss: 3.9771 - mobile_net_v1_loss: 0.0027 - mobile_net_v1_1_loss: 1.2399\n",
      "Epoch 00014: val_loss improved from 3.98632 to 3.97913, saving model to ./checkpoints/20201005_EverySports-K_verification_alpha-25.hdf5\n",
      "1786/1786 [==============================] - 355s 199ms/step - loss: 3.9771 - mobile_net_v1_loss: 0.0027 - mobile_net_v1_1_loss: 1.2399 - val_loss: 3.9791 - val_mobile_net_v1_loss: 0.0027 - val_mobile_net_v1_1_loss: 1.2364\n",
      "Epoch 15/100\n",
      "1786/1786 [==============================] - ETA: 0s - loss: 3.9662 - mobile_net_v1_loss: 0.0027 - mobile_net_v1_1_loss: 1.2371\n",
      "Epoch 00015: val_loss improved from 3.97913 to 3.96487, saving model to ./checkpoints/20201005_EverySports-K_verification_alpha-25.hdf5\n",
      "1786/1786 [==============================] - 355s 199ms/step - loss: 3.9662 - mobile_net_v1_loss: 0.0027 - mobile_net_v1_1_loss: 1.2371 - val_loss: 3.9649 - val_mobile_net_v1_loss: 0.0027 - val_mobile_net_v1_1_loss: 1.2336\n",
      "Epoch 16/100\n",
      "1786/1786 [==============================] - ETA: 0s - loss: 3.9561 - mobile_net_v1_loss: 0.0027 - mobile_net_v1_1_loss: 1.2345\n",
      "Epoch 00016: val_loss improved from 3.96487 to 3.95711, saving model to ./checkpoints/20201005_EverySports-K_verification_alpha-25.hdf5\n",
      "1786/1786 [==============================] - 356s 199ms/step - loss: 3.9561 - mobile_net_v1_loss: 0.0027 - mobile_net_v1_1_loss: 1.2345 - val_loss: 3.9571 - val_mobile_net_v1_loss: 0.0027 - val_mobile_net_v1_1_loss: 1.2312\n"
     ]
    },
    {
     "name": "stdout",
     "output_type": "stream",
     "text": [
      "Epoch 17/100\n",
      "1786/1786 [==============================] - ETA: 0s - loss: 3.9466 - mobile_net_v1_loss: 0.0027 - mobile_net_v1_1_loss: 1.2322\n",
      "Epoch 00017: val_loss improved from 3.95711 to 3.94759, saving model to ./checkpoints/20201005_EverySports-K_verification_alpha-25.hdf5\n",
      "1786/1786 [==============================] - 356s 199ms/step - loss: 3.9466 - mobile_net_v1_loss: 0.0027 - mobile_net_v1_1_loss: 1.2322 - val_loss: 3.9476 - val_mobile_net_v1_loss: 0.0027 - val_mobile_net_v1_1_loss: 1.2291\n",
      "Epoch 18/100\n",
      "1786/1786 [==============================] - ETA: 0s - loss: 3.9375 - mobile_net_v1_loss: 0.0027 - mobile_net_v1_1_loss: 1.2300\n",
      "Epoch 00018: val_loss improved from 3.94759 to 3.93937, saving model to ./checkpoints/20201005_EverySports-K_verification_alpha-25.hdf5\n",
      "1786/1786 [==============================] - 359s 201ms/step - loss: 3.9375 - mobile_net_v1_loss: 0.0027 - mobile_net_v1_1_loss: 1.2300 - val_loss: 3.9394 - val_mobile_net_v1_loss: 0.0027 - val_mobile_net_v1_1_loss: 1.2268\n",
      "Epoch 19/100\n",
      "1786/1786 [==============================] - ETA: 0s - loss: 3.9291 - mobile_net_v1_loss: 0.0027 - mobile_net_v1_1_loss: 1.2281\n",
      "Epoch 00019: val_loss improved from 3.93937 to 3.93169, saving model to ./checkpoints/20201005_EverySports-K_verification_alpha-25.hdf5\n",
      "1786/1786 [==============================] - 359s 201ms/step - loss: 3.9291 - mobile_net_v1_loss: 0.0027 - mobile_net_v1_1_loss: 1.2281 - val_loss: 3.9317 - val_mobile_net_v1_loss: 0.0027 - val_mobile_net_v1_1_loss: 1.2250\n",
      "Epoch 20/100\n",
      "1786/1786 [==============================] - ETA: 0s - loss: 3.9209 - mobile_net_v1_loss: 0.0027 - mobile_net_v1_1_loss: 1.2262\n",
      "Epoch 00020: val_loss improved from 3.93169 to 3.92455, saving model to ./checkpoints/20201005_EverySports-K_verification_alpha-25.hdf5\n",
      "1786/1786 [==============================] - 356s 199ms/step - loss: 3.9209 - mobile_net_v1_loss: 0.0027 - mobile_net_v1_1_loss: 1.2262 - val_loss: 3.9246 - val_mobile_net_v1_loss: 0.0027 - val_mobile_net_v1_1_loss: 1.2233\n",
      "Epoch 21/100\n",
      "1786/1786 [==============================] - ETA: 0s - loss: 3.9131 - mobile_net_v1_loss: 0.0027 - mobile_net_v1_1_loss: 1.2245\n",
      "Epoch 00021: val_loss improved from 3.92455 to 3.92071, saving model to ./checkpoints/20201005_EverySports-K_verification_alpha-25.hdf5\n",
      "1786/1786 [==============================] - 355s 199ms/step - loss: 3.9131 - mobile_net_v1_loss: 0.0027 - mobile_net_v1_1_loss: 1.2245 - val_loss: 3.9207 - val_mobile_net_v1_loss: 0.0027 - val_mobile_net_v1_1_loss: 1.2216\n",
      "Epoch 22/100\n",
      "1786/1786 [==============================] - ETA: 0s - loss: 3.9056 - mobile_net_v1_loss: 0.0027 - mobile_net_v1_1_loss: 1.2230\n",
      "Epoch 00022: val_loss improved from 3.92071 to 3.91184, saving model to ./checkpoints/20201005_EverySports-K_verification_alpha-25.hdf5\n",
      "1786/1786 [==============================] - 355s 199ms/step - loss: 3.9056 - mobile_net_v1_loss: 0.0027 - mobile_net_v1_1_loss: 1.2230 - val_loss: 3.9118 - val_mobile_net_v1_loss: 0.0027 - val_mobile_net_v1_1_loss: 1.2199\n",
      "Epoch 23/100\n",
      "1786/1786 [==============================] - ETA: 0s - loss: 3.8984 - mobile_net_v1_loss: 0.0027 - mobile_net_v1_1_loss: 1.2215\n",
      "Epoch 00023: val_loss improved from 3.91184 to 3.90989, saving model to ./checkpoints/20201005_EverySports-K_verification_alpha-25.hdf5\n",
      "1786/1786 [==============================] - 355s 199ms/step - loss: 3.8984 - mobile_net_v1_loss: 0.0027 - mobile_net_v1_1_loss: 1.2215 - val_loss: 3.9099 - val_mobile_net_v1_loss: 0.0027 - val_mobile_net_v1_1_loss: 1.2189\n",
      "Epoch 24/100\n",
      "1786/1786 [==============================] - ETA: 0s - loss: 3.8915 - mobile_net_v1_loss: 0.0027 - mobile_net_v1_1_loss: 1.2202\n",
      "Epoch 00024: val_loss improved from 3.90989 to 3.89925, saving model to ./checkpoints/20201005_EverySports-K_verification_alpha-25.hdf5\n",
      "1786/1786 [==============================] - 362s 203ms/step - loss: 3.8915 - mobile_net_v1_loss: 0.0027 - mobile_net_v1_1_loss: 1.2202 - val_loss: 3.8993 - val_mobile_net_v1_loss: 0.0027 - val_mobile_net_v1_1_loss: 1.2171\n",
      "Epoch 25/100\n",
      "1786/1786 [==============================] - ETA: 0s - loss: 3.8848 - mobile_net_v1_loss: 0.0027 - mobile_net_v1_1_loss: 1.2188\n",
      "Epoch 00025: val_loss improved from 3.89925 to 3.89550, saving model to ./checkpoints/20201005_EverySports-K_verification_alpha-25.hdf5\n",
      "1786/1786 [==============================] - 358s 200ms/step - loss: 3.8848 - mobile_net_v1_loss: 0.0027 - mobile_net_v1_1_loss: 1.2188 - val_loss: 3.8955 - val_mobile_net_v1_loss: 0.0027 - val_mobile_net_v1_1_loss: 1.2160\n",
      "Epoch 26/100\n",
      "1786/1786 [==============================] - ETA: 0s - loss: 3.8783 - mobile_net_v1_loss: 0.0027 - mobile_net_v1_1_loss: 1.2177\n",
      "Epoch 00026: val_loss improved from 3.89550 to 3.88906, saving model to ./checkpoints/20201005_EverySports-K_verification_alpha-25.hdf5\n",
      "1786/1786 [==============================] - 363s 203ms/step - loss: 3.8783 - mobile_net_v1_loss: 0.0027 - mobile_net_v1_1_loss: 1.2177 - val_loss: 3.8891 - val_mobile_net_v1_loss: 0.0027 - val_mobile_net_v1_1_loss: 1.2148\n",
      "Epoch 27/100\n",
      "1786/1786 [==============================] - ETA: 0s - loss: 3.8721 - mobile_net_v1_loss: 0.0027 - mobile_net_v1_1_loss: 1.2164\n",
      "Epoch 00027: val_loss improved from 3.88906 to 3.88434, saving model to ./checkpoints/20201005_EverySports-K_verification_alpha-25.hdf5\n",
      "1786/1786 [==============================] - 356s 199ms/step - loss: 3.8721 - mobile_net_v1_loss: 0.0027 - mobile_net_v1_1_loss: 1.2164 - val_loss: 3.8843 - val_mobile_net_v1_loss: 0.0027 - val_mobile_net_v1_1_loss: 1.2136\n",
      "Epoch 28/100\n",
      "1786/1786 [==============================] - ETA: 0s - loss: 3.8660 - mobile_net_v1_loss: 0.0027 - mobile_net_v1_1_loss: 1.2154\n",
      "Epoch 00028: val_loss improved from 3.88434 to 3.87849, saving model to ./checkpoints/20201005_EverySports-K_verification_alpha-25.hdf5\n",
      "1786/1786 [==============================] - 355s 199ms/step - loss: 3.8660 - mobile_net_v1_loss: 0.0027 - mobile_net_v1_1_loss: 1.2154 - val_loss: 3.8785 - val_mobile_net_v1_loss: 0.0027 - val_mobile_net_v1_1_loss: 1.2126\n",
      "Epoch 29/100\n",
      "1786/1786 [==============================] - ETA: 0s - loss: 3.8602 - mobile_net_v1_loss: 0.0026 - mobile_net_v1_1_loss: 1.2143\n",
      "Epoch 00029: val_loss improved from 3.87849 to 3.87298, saving model to ./checkpoints/20201005_EverySports-K_verification_alpha-25.hdf5\n",
      "1786/1786 [==============================] - 355s 199ms/step - loss: 3.8602 - mobile_net_v1_loss: 0.0026 - mobile_net_v1_1_loss: 1.2143 - val_loss: 3.8730 - val_mobile_net_v1_loss: 0.0027 - val_mobile_net_v1_1_loss: 1.2114\n",
      "Epoch 30/100\n",
      "1786/1786 [==============================] - ETA: 0s - loss: 3.8545 - mobile_net_v1_loss: 0.0026 - mobile_net_v1_1_loss: 1.2133\n",
      "Epoch 00030: val_loss improved from 3.87298 to 3.86958, saving model to ./checkpoints/20201005_EverySports-K_verification_alpha-25.hdf5\n",
      "1786/1786 [==============================] - 355s 199ms/step - loss: 3.8545 - mobile_net_v1_loss: 0.0026 - mobile_net_v1_1_loss: 1.2133 - val_loss: 3.8696 - val_mobile_net_v1_loss: 0.0027 - val_mobile_net_v1_1_loss: 1.2107\n",
      "Epoch 31/100\n",
      "1786/1786 [==============================] - ETA: 0s - loss: 3.8490 - mobile_net_v1_loss: 0.0026 - mobile_net_v1_1_loss: 1.2124\n",
      "Epoch 00031: val_loss improved from 3.86958 to 3.86429, saving model to ./checkpoints/20201005_EverySports-K_verification_alpha-25.hdf5\n",
      "1786/1786 [==============================] - 356s 200ms/step - loss: 3.8490 - mobile_net_v1_loss: 0.0026 - mobile_net_v1_1_loss: 1.2124 - val_loss: 3.8643 - val_mobile_net_v1_loss: 0.0027 - val_mobile_net_v1_1_loss: 1.2098\n",
      "Epoch 32/100\n",
      "1786/1786 [==============================] - ETA: 0s - loss: 3.8436 - mobile_net_v1_loss: 0.0026 - mobile_net_v1_1_loss: 1.2115\n",
      "Epoch 00032: val_loss improved from 3.86429 to 3.85980, saving model to ./checkpoints/20201005_EverySports-K_verification_alpha-25.hdf5\n",
      "1786/1786 [==============================] - 355s 199ms/step - loss: 3.8436 - mobile_net_v1_loss: 0.0026 - mobile_net_v1_1_loss: 1.2115 - val_loss: 3.8598 - val_mobile_net_v1_loss: 0.0027 - val_mobile_net_v1_1_loss: 1.2089\n",
      "Epoch 33/100\n",
      "1786/1786 [==============================] - ETA: 0s - loss: 3.8384 - mobile_net_v1_loss: 0.0026 - mobile_net_v1_1_loss: 1.2107\n",
      "Epoch 00033: val_loss improved from 3.85980 to 3.85547, saving model to ./checkpoints/20201005_EverySports-K_verification_alpha-25.hdf5\n"
     ]
    },
    {
     "name": "stdout",
     "output_type": "stream",
     "text": [
      "1786/1786 [==============================] - 355s 199ms/step - loss: 3.8384 - mobile_net_v1_loss: 0.0026 - mobile_net_v1_1_loss: 1.2107 - val_loss: 3.8555 - val_mobile_net_v1_loss: 0.0026 - val_mobile_net_v1_1_loss: 1.2080\n",
      "Epoch 34/100\n",
      "1786/1786 [==============================] - ETA: 0s - loss: 3.8333 - mobile_net_v1_loss: 0.0026 - mobile_net_v1_1_loss: 1.2099\n",
      "Epoch 00034: val_loss did not improve from 3.85547\n",
      "1786/1786 [==============================] - 354s 198ms/step - loss: 3.8333 - mobile_net_v1_loss: 0.0026 - mobile_net_v1_1_loss: 1.2099 - val_loss: 3.8582 - val_mobile_net_v1_loss: 0.0027 - val_mobile_net_v1_1_loss: 1.2073\n",
      "Epoch 35/100\n",
      "1786/1786 [==============================] - ETA: 0s - loss: 3.8283 - mobile_net_v1_loss: 0.0026 - mobile_net_v1_1_loss: 1.2091\n",
      "Epoch 00035: val_loss improved from 3.85547 to 3.84831, saving model to ./checkpoints/20201005_EverySports-K_verification_alpha-25.hdf5\n",
      "1786/1786 [==============================] - 355s 199ms/step - loss: 3.8283 - mobile_net_v1_loss: 0.0026 - mobile_net_v1_1_loss: 1.2091 - val_loss: 3.8483 - val_mobile_net_v1_loss: 0.0026 - val_mobile_net_v1_1_loss: 1.2064\n",
      "Epoch 36/100\n",
      "1786/1786 [==============================] - ETA: 0s - loss: 3.8233 - mobile_net_v1_loss: 0.0026 - mobile_net_v1_1_loss: 1.2083\n",
      "Epoch 00036: val_loss improved from 3.84831 to 3.84695, saving model to ./checkpoints/20201005_EverySports-K_verification_alpha-25.hdf5\n",
      "1786/1786 [==============================] - 355s 199ms/step - loss: 3.8233 - mobile_net_v1_loss: 0.0026 - mobile_net_v1_1_loss: 1.2083 - val_loss: 3.8470 - val_mobile_net_v1_loss: 0.0026 - val_mobile_net_v1_1_loss: 1.2057\n",
      "Epoch 37/100\n",
      "1786/1786 [==============================] - ETA: 0s - loss: 3.8187 - mobile_net_v1_loss: 0.0026 - mobile_net_v1_1_loss: 1.2077\n",
      "Epoch 00037: val_loss improved from 3.84695 to 3.84643, saving model to ./checkpoints/20201005_EverySports-K_verification_alpha-25.hdf5\n",
      "1786/1786 [==============================] - 355s 199ms/step - loss: 3.8187 - mobile_net_v1_loss: 0.0026 - mobile_net_v1_1_loss: 1.2077 - val_loss: 3.8464 - val_mobile_net_v1_loss: 0.0026 - val_mobile_net_v1_1_loss: 1.2049\n",
      "Epoch 38/100\n",
      "1786/1786 [==============================] - ETA: 0s - loss: 3.8142 - mobile_net_v1_loss: 0.0026 - mobile_net_v1_1_loss: 1.2069\n",
      "Epoch 00038: val_loss improved from 3.84643 to 3.83853, saving model to ./checkpoints/20201005_EverySports-K_verification_alpha-25.hdf5\n",
      "1786/1786 [==============================] - 356s 199ms/step - loss: 3.8142 - mobile_net_v1_loss: 0.0026 - mobile_net_v1_1_loss: 1.2069 - val_loss: 3.8385 - val_mobile_net_v1_loss: 0.0026 - val_mobile_net_v1_1_loss: 1.2044\n",
      "Epoch 39/100\n",
      "1786/1786 [==============================] - ETA: 0s - loss: 3.8097 - mobile_net_v1_loss: 0.0026 - mobile_net_v1_1_loss: 1.2063\n",
      "Epoch 00039: val_loss improved from 3.83853 to 3.83484, saving model to ./checkpoints/20201005_EverySports-K_verification_alpha-25.hdf5\n",
      "1786/1786 [==============================] - 356s 199ms/step - loss: 3.8097 - mobile_net_v1_loss: 0.0026 - mobile_net_v1_1_loss: 1.2063 - val_loss: 3.8348 - val_mobile_net_v1_loss: 0.0026 - val_mobile_net_v1_1_loss: 1.2036\n",
      "Epoch 40/100\n",
      "1786/1786 [==============================] - ETA: 0s - loss: 3.8052 - mobile_net_v1_loss: 0.0026 - mobile_net_v1_1_loss: 1.2057\n",
      "Epoch 00040: val_loss improved from 3.83484 to 3.83259, saving model to ./checkpoints/20201005_EverySports-K_verification_alpha-25.hdf5\n",
      "1786/1786 [==============================] - 356s 199ms/step - loss: 3.8052 - mobile_net_v1_loss: 0.0026 - mobile_net_v1_1_loss: 1.2057 - val_loss: 3.8326 - val_mobile_net_v1_loss: 0.0026 - val_mobile_net_v1_1_loss: 1.2031\n",
      "Epoch 41/100\n",
      "1786/1786 [==============================] - ETA: 0s - loss: 3.8009 - mobile_net_v1_loss: 0.0026 - mobile_net_v1_1_loss: 1.2050\n",
      "Epoch 00041: val_loss improved from 3.83259 to 3.82824, saving model to ./checkpoints/20201005_EverySports-K_verification_alpha-25.hdf5\n",
      "1786/1786 [==============================] - 356s 199ms/step - loss: 3.8009 - mobile_net_v1_loss: 0.0026 - mobile_net_v1_1_loss: 1.2050 - val_loss: 3.8282 - val_mobile_net_v1_loss: 0.0026 - val_mobile_net_v1_1_loss: 1.2026\n",
      "Epoch 42/100\n",
      "1786/1786 [==============================] - ETA: 0s - loss: 3.7965 - mobile_net_v1_loss: 0.0026 - mobile_net_v1_1_loss: 1.2045\n",
      "Epoch 00042: val_loss improved from 3.82824 to 3.82585, saving model to ./checkpoints/20201005_EverySports-K_verification_alpha-25.hdf5\n",
      "1786/1786 [==============================] - 355s 199ms/step - loss: 3.7965 - mobile_net_v1_loss: 0.0026 - mobile_net_v1_1_loss: 1.2045 - val_loss: 3.8259 - val_mobile_net_v1_loss: 0.0026 - val_mobile_net_v1_1_loss: 1.2018\n",
      "Epoch 43/100\n",
      "1786/1786 [==============================] - ETA: 0s - loss: 3.7924 - mobile_net_v1_loss: 0.0026 - mobile_net_v1_1_loss: 1.2039\n",
      "Epoch 00043: val_loss improved from 3.82585 to 3.82571, saving model to ./checkpoints/20201005_EverySports-K_verification_alpha-25.hdf5\n",
      "1786/1786 [==============================] - 355s 199ms/step - loss: 3.7924 - mobile_net_v1_loss: 0.0026 - mobile_net_v1_1_loss: 1.2039 - val_loss: 3.8257 - val_mobile_net_v1_loss: 0.0026 - val_mobile_net_v1_1_loss: 1.2014\n",
      "Epoch 44/100\n",
      "1786/1786 [==============================] - ETA: 0s - loss: 3.7882 - mobile_net_v1_loss: 0.0026 - mobile_net_v1_1_loss: 1.2034\n",
      "Epoch 00044: val_loss improved from 3.82571 to 3.82319, saving model to ./checkpoints/20201005_EverySports-K_verification_alpha-25.hdf5\n",
      "1786/1786 [==============================] - 355s 199ms/step - loss: 3.7882 - mobile_net_v1_loss: 0.0026 - mobile_net_v1_1_loss: 1.2034 - val_loss: 3.8232 - val_mobile_net_v1_loss: 0.0026 - val_mobile_net_v1_1_loss: 1.2009\n",
      "Epoch 45/100\n",
      "1786/1786 [==============================] - ETA: 0s - loss: 3.7842 - mobile_net_v1_loss: 0.0026 - mobile_net_v1_1_loss: 1.2029\n",
      "Epoch 00045: val_loss improved from 3.82319 to 3.81856, saving model to ./checkpoints/20201005_EverySports-K_verification_alpha-25.hdf5\n",
      "1786/1786 [==============================] - 355s 198ms/step - loss: 3.7842 - mobile_net_v1_loss: 0.0026 - mobile_net_v1_1_loss: 1.2029 - val_loss: 3.8186 - val_mobile_net_v1_loss: 0.0026 - val_mobile_net_v1_1_loss: 1.2003\n",
      "Epoch 46/100\n",
      "1786/1786 [==============================] - ETA: 0s - loss: 3.7802 - mobile_net_v1_loss: 0.0026 - mobile_net_v1_1_loss: 1.2024\n",
      "Epoch 00046: val_loss did not improve from 3.81856\n",
      "1786/1786 [==============================] - 361s 202ms/step - loss: 3.7802 - mobile_net_v1_loss: 0.0026 - mobile_net_v1_1_loss: 1.2024 - val_loss: 3.8215 - val_mobile_net_v1_loss: 0.0026 - val_mobile_net_v1_1_loss: 1.1998\n",
      "Epoch 47/100\n",
      "1786/1786 [==============================] - ETA: 0s - loss: 3.7761 - mobile_net_v1_loss: 0.0026 - mobile_net_v1_1_loss: 1.2019\n",
      "Epoch 00047: val_loss did not improve from 3.81856\n",
      "1786/1786 [==============================] - 357s 200ms/step - loss: 3.7761 - mobile_net_v1_loss: 0.0026 - mobile_net_v1_1_loss: 1.2019 - val_loss: 3.8189 - val_mobile_net_v1_loss: 0.0026 - val_mobile_net_v1_1_loss: 1.1995\n",
      "Epoch 48/100\n",
      "1786/1786 [==============================] - ETA: 0s - loss: 3.7722 - mobile_net_v1_loss: 0.0026 - mobile_net_v1_1_loss: 1.2015\n",
      "Epoch 00048: val_loss improved from 3.81856 to 3.81083, saving model to ./checkpoints/20201005_EverySports-K_verification_alpha-25.hdf5\n",
      "1786/1786 [==============================] - 356s 199ms/step - loss: 3.7722 - mobile_net_v1_loss: 0.0026 - mobile_net_v1_1_loss: 1.2015 - val_loss: 3.8108 - val_mobile_net_v1_loss: 0.0026 - val_mobile_net_v1_1_loss: 1.1989\n",
      "Epoch 49/100\n",
      "1786/1786 [==============================] - ETA: 0s - loss: 3.7683 - mobile_net_v1_loss: 0.0026 - mobile_net_v1_1_loss: 1.2010\n",
      "Epoch 00049: val_loss did not improve from 3.81083\n",
      "1786/1786 [==============================] - 355s 199ms/step - loss: 3.7683 - mobile_net_v1_loss: 0.0026 - mobile_net_v1_1_loss: 1.2010 - val_loss: 3.8122 - val_mobile_net_v1_loss: 0.0026 - val_mobile_net_v1_1_loss: 1.1985\n",
      "Epoch 50/100\n",
      "1786/1786 [==============================] - ETA: 0s - loss: 3.7643 - mobile_net_v1_loss: 0.0026 - mobile_net_v1_1_loss: 1.2006\n",
      "Epoch 00050: val_loss improved from 3.81083 to 3.80644, saving model to ./checkpoints/20201005_EverySports-K_verification_alpha-25.hdf5\n",
      "1786/1786 [==============================] - 355s 199ms/step - loss: 3.7643 - mobile_net_v1_loss: 0.0026 - mobile_net_v1_1_loss: 1.2006 - val_loss: 3.8064 - val_mobile_net_v1_loss: 0.0026 - val_mobile_net_v1_1_loss: 1.1980\n"
     ]
    },
    {
     "name": "stdout",
     "output_type": "stream",
     "text": [
      "Epoch 51/100\n",
      "1786/1786 [==============================] - ETA: 0s - loss: 3.7603 - mobile_net_v1_loss: 0.0026 - mobile_net_v1_1_loss: 1.2002\n",
      "Epoch 00051: val_loss improved from 3.80644 to 3.80488, saving model to ./checkpoints/20201005_EverySports-K_verification_alpha-25.hdf5\n",
      "1786/1786 [==============================] - 354s 198ms/step - loss: 3.7603 - mobile_net_v1_loss: 0.0026 - mobile_net_v1_1_loss: 1.2002 - val_loss: 3.8049 - val_mobile_net_v1_loss: 0.0026 - val_mobile_net_v1_1_loss: 1.1977\n",
      "Epoch 52/100\n",
      "1786/1786 [==============================] - ETA: 0s - loss: 3.7567 - mobile_net_v1_loss: 0.0026 - mobile_net_v1_1_loss: 1.1998\n",
      "Epoch 00052: val_loss improved from 3.80488 to 3.80171, saving model to ./checkpoints/20201005_EverySports-K_verification_alpha-25.hdf5\n",
      "1786/1786 [==============================] - 356s 199ms/step - loss: 3.7567 - mobile_net_v1_loss: 0.0026 - mobile_net_v1_1_loss: 1.1998 - val_loss: 3.8017 - val_mobile_net_v1_loss: 0.0026 - val_mobile_net_v1_1_loss: 1.1972\n",
      "Epoch 53/100\n",
      "1786/1786 [==============================] - ETA: 0s - loss: 3.7528 - mobile_net_v1_loss: 0.0026 - mobile_net_v1_1_loss: 1.1994\n",
      "Epoch 00053: val_loss did not improve from 3.80171\n",
      "1786/1786 [==============================] - 354s 198ms/step - loss: 3.7528 - mobile_net_v1_loss: 0.0026 - mobile_net_v1_1_loss: 1.1994 - val_loss: 3.8055 - val_mobile_net_v1_loss: 0.0026 - val_mobile_net_v1_1_loss: 1.1968\n",
      "Epoch 54/100\n",
      "1786/1786 [==============================] - ETA: 0s - loss: 3.7488 - mobile_net_v1_loss: 0.0025 - mobile_net_v1_1_loss: 1.1991\n",
      "Epoch 00054: val_loss did not improve from 3.80171\n",
      "1786/1786 [==============================] - 355s 199ms/step - loss: 3.7488 - mobile_net_v1_loss: 0.0025 - mobile_net_v1_1_loss: 1.1991 - val_loss: 3.8038 - val_mobile_net_v1_loss: 0.0026 - val_mobile_net_v1_1_loss: 1.1966\n",
      "Epoch 55/100\n",
      "1786/1786 [==============================] - ETA: 0s - loss: 3.7452 - mobile_net_v1_loss: 0.0025 - mobile_net_v1_1_loss: 1.1987\n",
      "Epoch 00055: val_loss did not improve from 3.80171\n",
      "1786/1786 [==============================] - 355s 199ms/step - loss: 3.7452 - mobile_net_v1_loss: 0.0025 - mobile_net_v1_1_loss: 1.1987 - val_loss: 3.8084 - val_mobile_net_v1_loss: 0.0026 - val_mobile_net_v1_1_loss: 1.1961\n",
      "Epoch 56/100\n",
      "1786/1786 [==============================] - ETA: 0s - loss: 3.7414 - mobile_net_v1_loss: 0.0025 - mobile_net_v1_1_loss: 1.1983\n",
      "Epoch 00056: val_loss did not improve from 3.80171\n",
      "1786/1786 [==============================] - 355s 199ms/step - loss: 3.7414 - mobile_net_v1_loss: 0.0025 - mobile_net_v1_1_loss: 1.1983 - val_loss: 3.8150 - val_mobile_net_v1_loss: 0.0026 - val_mobile_net_v1_1_loss: 1.1961\n",
      "Epoch 57/100\n",
      "1786/1786 [==============================] - ETA: 0s - loss: 3.7376 - mobile_net_v1_loss: 0.0025 - mobile_net_v1_1_loss: 1.1980\n",
      "Epoch 00057: val_loss did not improve from 3.80171\n",
      "1786/1786 [==============================] - 357s 200ms/step - loss: 3.7376 - mobile_net_v1_loss: 0.0025 - mobile_net_v1_1_loss: 1.1980 - val_loss: 3.8024 - val_mobile_net_v1_loss: 0.0026 - val_mobile_net_v1_1_loss: 1.1955\n",
      "Epoch 58/100\n",
      "1786/1786 [==============================] - ETA: 0s - loss: 3.7339 - mobile_net_v1_loss: 0.0025 - mobile_net_v1_1_loss: 1.1977\n",
      "Epoch 00058: val_loss improved from 3.80171 to 3.79252, saving model to ./checkpoints/20201005_EverySports-K_verification_alpha-25.hdf5\n",
      "1786/1786 [==============================] - 357s 200ms/step - loss: 3.7339 - mobile_net_v1_loss: 0.0025 - mobile_net_v1_1_loss: 1.1977 - val_loss: 3.7925 - val_mobile_net_v1_loss: 0.0026 - val_mobile_net_v1_1_loss: 1.1951\n",
      "Epoch 59/100\n",
      "1786/1786 [==============================] - ETA: 0s - loss: 3.7302 - mobile_net_v1_loss: 0.0025 - mobile_net_v1_1_loss: 1.1974\n",
      "Epoch 00059: val_loss improved from 3.79252 to 3.79215, saving model to ./checkpoints/20201005_EverySports-K_verification_alpha-25.hdf5\n",
      "1786/1786 [==============================] - 358s 200ms/step - loss: 3.7302 - mobile_net_v1_loss: 0.0025 - mobile_net_v1_1_loss: 1.1974 - val_loss: 3.7922 - val_mobile_net_v1_loss: 0.0026 - val_mobile_net_v1_1_loss: 1.1951\n",
      "Epoch 60/100\n",
      "1786/1786 [==============================] - ETA: 0s - loss: 3.7263 - mobile_net_v1_loss: 0.0025 - mobile_net_v1_1_loss: 1.1971\n",
      "Epoch 00060: val_loss improved from 3.79215 to 3.79123, saving model to ./checkpoints/20201005_EverySports-K_verification_alpha-25.hdf5\n",
      "1786/1786 [==============================] - 357s 200ms/step - loss: 3.7263 - mobile_net_v1_loss: 0.0025 - mobile_net_v1_1_loss: 1.1971 - val_loss: 3.7912 - val_mobile_net_v1_loss: 0.0026 - val_mobile_net_v1_1_loss: 1.1947\n",
      "Epoch 61/100\n",
      "1786/1786 [==============================] - ETA: 0s - loss: 3.7225 - mobile_net_v1_loss: 0.0025 - mobile_net_v1_1_loss: 1.1968\n",
      "Epoch 00061: val_loss improved from 3.79123 to 3.78699, saving model to ./checkpoints/20201005_EverySports-K_verification_alpha-25.hdf5\n",
      "1786/1786 [==============================] - 356s 200ms/step - loss: 3.7225 - mobile_net_v1_loss: 0.0025 - mobile_net_v1_1_loss: 1.1968 - val_loss: 3.7870 - val_mobile_net_v1_loss: 0.0026 - val_mobile_net_v1_1_loss: 1.1943\n",
      "Epoch 62/100\n",
      "1786/1786 [==============================] - ETA: 0s - loss: 3.7188 - mobile_net_v1_loss: 0.0025 - mobile_net_v1_1_loss: 1.1966\n",
      "Epoch 00062: val_loss improved from 3.78699 to 3.78683, saving model to ./checkpoints/20201005_EverySports-K_verification_alpha-25.hdf5\n",
      "1786/1786 [==============================] - 355s 199ms/step - loss: 3.7188 - mobile_net_v1_loss: 0.0025 - mobile_net_v1_1_loss: 1.1966 - val_loss: 3.7868 - val_mobile_net_v1_loss: 0.0026 - val_mobile_net_v1_1_loss: 1.1942\n",
      "Epoch 63/100\n",
      "1786/1786 [==============================] - ETA: 0s - loss: 3.7148 - mobile_net_v1_loss: 0.0025 - mobile_net_v1_1_loss: 1.1963\n",
      "Epoch 00063: val_loss improved from 3.78683 to 3.78364, saving model to ./checkpoints/20201005_EverySports-K_verification_alpha-25.hdf5\n",
      "1786/1786 [==============================] - 354s 198ms/step - loss: 3.7148 - mobile_net_v1_loss: 0.0025 - mobile_net_v1_1_loss: 1.1963 - val_loss: 3.7836 - val_mobile_net_v1_loss: 0.0026 - val_mobile_net_v1_1_loss: 1.1938\n",
      "Epoch 64/100\n",
      "1786/1786 [==============================] - ETA: 0s - loss: 3.7110 - mobile_net_v1_loss: 0.0025 - mobile_net_v1_1_loss: 1.1960\n",
      "Epoch 00064: val_loss did not improve from 3.78364\n",
      "1786/1786 [==============================] - 354s 198ms/step - loss: 3.7110 - mobile_net_v1_loss: 0.0025 - mobile_net_v1_1_loss: 1.1960 - val_loss: 3.7868 - val_mobile_net_v1_loss: 0.0026 - val_mobile_net_v1_1_loss: 1.1937\n",
      "Epoch 65/100\n",
      "1786/1786 [==============================] - ETA: 0s - loss: 3.7070 - mobile_net_v1_loss: 0.0025 - mobile_net_v1_1_loss: 1.1958\n",
      "Epoch 00065: val_loss improved from 3.78364 to 3.78050, saving model to ./checkpoints/20201005_EverySports-K_verification_alpha-25.hdf5\n",
      "1786/1786 [==============================] - 354s 198ms/step - loss: 3.7070 - mobile_net_v1_loss: 0.0025 - mobile_net_v1_1_loss: 1.1958 - val_loss: 3.7805 - val_mobile_net_v1_loss: 0.0026 - val_mobile_net_v1_1_loss: 1.1932\n",
      "Epoch 66/100\n",
      "1786/1786 [==============================] - ETA: 0s - loss: 3.7032 - mobile_net_v1_loss: 0.0025 - mobile_net_v1_1_loss: 1.1955\n",
      "Epoch 00066: val_loss did not improve from 3.78050\n",
      "1786/1786 [==============================] - 358s 201ms/step - loss: 3.7032 - mobile_net_v1_loss: 0.0025 - mobile_net_v1_1_loss: 1.1955 - val_loss: 3.7957 - val_mobile_net_v1_loss: 0.0026 - val_mobile_net_v1_1_loss: 1.1930\n",
      "Epoch 67/100\n",
      "1786/1786 [==============================] - ETA: 0s - loss: 3.6992 - mobile_net_v1_loss: 0.0025 - mobile_net_v1_1_loss: 1.1953\n",
      "Epoch 00067: val_loss did not improve from 3.78050\n",
      "1786/1786 [==============================] - 359s 201ms/step - loss: 3.6992 - mobile_net_v1_loss: 0.0025 - mobile_net_v1_1_loss: 1.1953 - val_loss: 3.7908 - val_mobile_net_v1_loss: 0.0026 - val_mobile_net_v1_1_loss: 1.1929\n",
      "Epoch 68/100\n",
      "1786/1786 [==============================] - ETA: 0s - loss: 3.6953 - mobile_net_v1_loss: 0.0025 - mobile_net_v1_1_loss: 1.1951\n",
      "Epoch 00068: val_loss did not improve from 3.78050\n",
      "1786/1786 [==============================] - 354s 198ms/step - loss: 3.6953 - mobile_net_v1_loss: 0.0025 - mobile_net_v1_1_loss: 1.1951 - val_loss: 3.7896 - val_mobile_net_v1_loss: 0.0026 - val_mobile_net_v1_1_loss: 1.1927\n"
     ]
    },
    {
     "name": "stdout",
     "output_type": "stream",
     "text": [
      "Epoch 69/100\n",
      "1268/1786 [====================>.........] - ETA: 1:27 - loss: 3.6951 - mobile_net_v1_loss: 0.0025 - mobile_net_v1_1_loss: 1.1980"
     ]
    }
   ],
   "source": [
    "history = model.fit(\n",
    "    train_gen,\n",
    "    validation_data = val_gen,\n",
    "    epochs = EPOCHS,\n",
    "    callbacks = [ckpt],\n",
    "    use_multiprocessing = False,\n",
    ")"
   ]
  },
  {
   "cell_type": "code",
   "execution_count": null,
   "metadata": {},
   "outputs": [],
   "source": [
    "model.save_weights(f'./checkpoints/{ckpt_path}_final.h5')"
   ]
  },
  {
   "cell_type": "markdown",
   "metadata": {},
   "source": [
    "# History "
   ]
  },
  {
   "cell_type": "code",
   "execution_count": null,
   "metadata": {
    "scrolled": true
   },
   "outputs": [],
   "source": [
    "# draw_train_result(history)\n",
    "plt.plot(history.history['loss'], 'y', label='train loss')\n",
    "plt.plot(history.history['val_loss'], 'r', label='val loss')\n",
    "\n",
    "best = min(history.history['val_loss'])\n",
    "plt.title(f'Best Loss : {best}')\n",
    "\n",
    "plt.xlabel('epoch')\n",
    "plt.ylabel('loss')\n",
    "\n",
    "plt.legend(loc='upper right')"
   ]
  },
  {
   "cell_type": "markdown",
   "metadata": {},
   "source": [
    "# Inference "
   ]
  },
  {
   "cell_type": "code",
   "execution_count": null,
   "metadata": {},
   "outputs": [],
   "source": [
    "os.environ[\"CUDA_VISIBLE_DEVICES\"]=\"1\"\n",
    "with tf.device('/device:GPU:1'):\n",
    "    base_model = posenet.load_model(mode)\n",
    "    inputs = tf.keras.Input(shape=(256,256,3))\n",
    "    outputs = base_model(inputs)\n",
    "    inf_model = tf.keras.Model(inputs=inputs, outputs=outputs)\n",
    "    # inf_model.load_weights(f'./checkpoints/{ckpt_path}.hdf5')\n",
    "    inf_model.load_weights(f'./checkpoints/{ckpt_path}_final.h5')"
   ]
  },
  {
   "cell_type": "code",
   "execution_count": null,
   "metadata": {},
   "outputs": [],
   "source": [
    "# decode_model = add_decoder(inf_model)"
   ]
  },
  {
   "cell_type": "code",
   "execution_count": null,
   "metadata": {},
   "outputs": [],
   "source": [
    "inf_gen = EvalDataGenerator(\n",
    "    list_IDs = validation_df.index,\n",
    "    df = df,\n",
    "    batch_size = 1,\n",
    "    shuffle = False,\n",
    "    image_paths = validation_df['NAME'],\n",
    "    mode = 'fit',\n",
    ")"
   ]
  },
  {
   "cell_type": "code",
   "execution_count": null,
   "metadata": {},
   "outputs": [],
   "source": [
    "img, regr = inf_gen.__getitem__(11)\n",
    "result = inf_model(img)\n",
    "idx = 0"
   ]
  },
  {
   "cell_type": "code",
   "execution_count": null,
   "metadata": {},
   "outputs": [],
   "source": [
    "plt.imshow(img[idx]/255.)\n",
    "plt.show()"
   ]
  },
  {
   "cell_type": "code",
   "execution_count": null,
   "metadata": {
    "scrolled": false
   },
   "outputs": [],
   "source": [
    "draw_heatmap(0, *regr)"
   ]
  },
  {
   "cell_type": "code",
   "execution_count": null,
   "metadata": {
    "scrolled": true
   },
   "outputs": [],
   "source": [
    "draw_heatmap(0, heatmap_result=result[0])"
   ]
  },
  {
   "cell_type": "markdown",
   "metadata": {},
   "source": [
    "# Decode "
   ]
  },
  {
   "cell_type": "code",
   "execution_count": null,
   "metadata": {},
   "outputs": [],
   "source": [
    "# pose_scores, keypoint_scores, keypoint_coords = decode_single_poses(result[0].numpy().squeeze(axis=0),\n",
    "#                     result[1].numpy().squeeze(axis=0))\n",
    "\n",
    "# print(f'pose score : {pose_scores}')\n",
    "# print(f'keypoint scores :')\n",
    "# print(f'{keypoint_scores}')\n",
    "# print(f'keypoint coords :')\n",
    "# print(f'{keypoint_coords}')"
   ]
  },
  {
   "cell_type": "code",
   "execution_count": null,
   "metadata": {},
   "outputs": [],
   "source": [
    "pose_scores_nooff, keypoint_scores_nooff, keypoint_coords_nooff = decode_single_poses_nooff(result.numpy().squeeze(axis=0))\n",
    "\n",
    "print(f'pose score nooff: {pose_scores_nooff}')\n",
    "print(f'keypoint scores nooff:')\n",
    "print(f'{keypoint_scores_nooff}')\n",
    "print(f'keypoint coords nooff:')\n",
    "print(f'{keypoint_coords_nooff}')"
   ]
  },
  {
   "cell_type": "code",
   "execution_count": null,
   "metadata": {},
   "outputs": [],
   "source": [
    "draw_result(img, idx, keypoint_coords_nooff, keypoint_coords_nooff, result, inf_gen)"
   ]
  },
  {
   "cell_type": "markdown",
   "metadata": {},
   "source": [
    "# Evaluate"
   ]
  },
  {
   "cell_type": "code",
   "execution_count": null,
   "metadata": {},
   "outputs": [],
   "source": [
    "evaluate(inf_model, inf_gen)"
   ]
  }
 ],
 "metadata": {
  "kernelspec": {
   "display_name": "Pose-Estimation",
   "language": "python",
   "name": "pose-estimation"
  },
  "language_info": {
   "codemirror_mode": {
    "name": "ipython",
    "version": 3
   },
   "file_extension": ".py",
   "mimetype": "text/x-python",
   "name": "python",
   "nbconvert_exporter": "python",
   "pygments_lexer": "ipython3",
   "version": "3.7.9"
  }
 },
 "nbformat": 4,
 "nbformat_minor": 1
}
